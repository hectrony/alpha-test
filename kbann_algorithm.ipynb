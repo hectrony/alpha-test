{
  "nbformat": 4,
  "nbformat_minor": 0,
  "metadata": {
    "colab": {
      "provenance": []
    },
    "kernelspec": {
      "name": "python3",
      "display_name": "Python 3"
    },
    "language_info": {
      "name": "python"
    }
  },
  "cells": [
    {
      "cell_type": "code",
      "source": [
        "!pip install tensorflow\n",
        "!pip install pandas\n",
        "!pip install matplotlib"
      ],
      "metadata": {
        "id": "FzpTC41NLEfU"
      },
      "execution_count": null,
      "outputs": []
    },
    {
      "cell_type": "code",
      "execution_count": 1,
      "metadata": {
        "id": "YDzPz1D_q73o"
      },
      "outputs": [],
      "source": [
        "import pandas as pd\n",
        "import numpy as np\n",
        "import zipfile\n",
        "import requests\n",
        "import io\n",
        "from sklearn.model_selection import train_test_split\n",
        "from sklearn.preprocessing import LabelEncoder\n",
        "from keras.models import Sequential\n",
        "from keras.layers import Dense\n"
      ]
    },
    {
      "cell_type": "code",
      "source": [
        "url = 'https://archive.ics.uci.edu/static/public/508/qsar+oral+toxicity.zip'\n",
        "\n",
        "# downloading\n",
        "respuesta = requests.get(url)\n",
        "\n",
        "# verifying downloading\n",
        "if respuesta.status_code == 200:\n",
        "    # opening file .zip from respuesta\n",
        "    with zipfile.ZipFile(io.BytesIO(respuesta.content)) as archivo_zip:\n",
        "        # listing files\n",
        "        print(\"Archivos en el ZIP:\", archivo_zip.namelist())\n",
        "\n",
        "        # extracting file\n",
        "        nombre_csv = archivo_zip.namelist()[0]  # first file\n",
        "        with archivo_zip.open(nombre_csv) as archivo_csv:\n",
        "            # load .csv in pandas dataframe\n",
        "            df = pd.read_csv(archivo_csv, sep= ';')\n",
        "            print(df.head())  # first rows of dataframe\n",
        "else:\n",
        "    print(\"Download ERROR\", respuesta.status_code)\n"
      ],
      "metadata": {
        "id": "WGC8Ut6PFrbS"
      },
      "execution_count": null,
      "outputs": []
    },
    {
      "cell_type": "code",
      "source": [
        "# loading data\n",
        "datos = df\n",
        "\n",
        "# replace \"positive\" y \"negative\" for 1 and -1\n",
        "datos['negative'] = datos['negative'].replace({'positive': 1, 'negative': -1})\n",
        "\n",
        "# separating features and tags\n",
        "X = datos.iloc[:, :-1].values  # all columns, except last\n",
        "y = datos['negative'].values  # last column\n",
        "\n",
        "# separate in volumes: training and test\n",
        "X_train, X_test, y_train, y_test = train_test_split(X, y, test_size=0.2, random_state=42)\n"
      ],
      "metadata": {
        "id": "etpsrvSaHen5"
      },
      "execution_count": null,
      "outputs": []
    },
    {
      "cell_type": "code",
      "source": [
        "def reglas_if_then(x):\n",
        "    # rules based in binaries features\n",
        "    if x[0] == 1 and x[1] == 0:\n",
        "        return 1\n",
        "    elif x[0] == 0 and x[1] == 1:\n",
        "        return -1\n",
        "    else:\n",
        "        return 0  # no definied clasification\n",
        "\n",
        "# applying rules to training data for create initial tag volume\n",
        "y_train_reglas = np.array([reglas_if_then(x) for x in X_train])\n"
      ],
      "metadata": {
        "id": "fME7v6Xkr-Wg"
      },
      "execution_count": null,
      "outputs": []
    },
    {
      "cell_type": "code",
      "source": [
        "# create KBANN model using Keras\n",
        "modelo = Sequential()\n",
        "modelo.add(Dense(10, input_dim=X.shape[1], activation='relu'))  # hide layer : 10 neuron\n",
        "modelo.add(Dense(1, activation='tanh'))  # out layer\n",
        "\n",
        "# compiling model\n",
        "modelo.compile(loss='mean_squared_error', optimizer='adam', metrics=['accuracy'])\n",
        "\n",
        "# train the model with preprocessing data and definied tags for rules\n",
        "modelo.fit(X_train, y_train_reglas, epochs=100, batch_size=10)\n"
      ],
      "metadata": {
        "id": "-uCQMpVWsbhe"
      },
      "execution_count": null,
      "outputs": []
    },
    {
      "cell_type": "code",
      "source": [
        "import matplotlib.pyplot as plt\n",
        "\n",
        "def data_view(X, y):\n",
        "    plt.scatter(X[:, 0], X[:, 1], c=y)\n",
        "    plt.xlabel('Feature 2')\n",
        "    plt.ylabel('Feature 1')\n",
        "    plt.title('Training Data')\n",
        "    plt.show()\n",
        "\n",
        "data_view(X_train, y_train_reglas)\n"
      ],
      "metadata": {
        "id": "qDiTwI4_sjSW"
      },
      "execution_count": null,
      "outputs": []
    },
    {
      "cell_type": "code",
      "source": [
        "def test_learning(new_data):\n",
        "    predictions = modelo.predict(new_data)\n",
        "    return np.where(predictions > 0, 1, -1)  # clasification: positive or negative\n",
        "\n",
        "# testing the learning model with new data\n",
        "new_data = np.random.randint(2, size = (30, 1024))  # sample data (with 1024 columns)\n",
        "results = test_learning(new_data)\n",
        "print(\"Clasification Results:\\n\", results)\n"
      ],
      "metadata": {
        "id": "AE1Rq8DDsuk1"
      },
      "execution_count": null,
      "outputs": []
    }
  ]
}